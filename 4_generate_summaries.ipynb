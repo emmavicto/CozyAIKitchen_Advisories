{
 "cells": [
  {
   "cell_type": "markdown",
   "id": "e690b245",
   "metadata": {},
   "source": [
    "# Import Libraries\n",
    "Import libraries including pandas, NumPy, matplotlib, and Azure OpenAI SDK. Remove unused imports from the original notebook."
   ]
  },
  {
   "cell_type": "code",
   "execution_count": 1,
   "id": "3e19b7de",
   "metadata": {},
   "outputs": [],
   "source": [
    "# Import Libraries\n",
    "import pandas as pd\n",
    "import time\n",
    "from openai import AzureOpenAI\n",
    "import os\n",
    "from dotenv import load_dotenv"
   ]
  },
  {
   "cell_type": "markdown",
   "id": "fabb9b1c",
   "metadata": {},
   "source": [
    "# Set Up Azure OpenAI Client\n",
    "Configure the Azure OpenAI client using environment variables for API keys and endpoints."
   ]
  },
  {
   "cell_type": "code",
   "execution_count": 2,
   "id": "a5a2bdf5",
   "metadata": {},
   "outputs": [],
   "source": [
    "# Load environment variables from .env file\n",
    "load_dotenv()\n",
    "\n",
    "# Initialize Azure OpenAI client correctly\n",
    "client = AzureOpenAI(\n",
    "    api_key=os.getenv(\"OPENAI_API_KEY\"),\n",
    "    api_version=\"2023-05-15\",\n",
    "    azure_endpoint=os.getenv(\"OPENAI_API_BASE\")\n",
    ")"
   ]
  },
  {
   "cell_type": "markdown",
   "id": "9b22dc3d",
   "metadata": {},
   "source": [
    "# Load and Prepare Data\n",
    "Load the RedList data from a local CSV file or other accessible storage. Use pandas for data manipulation instead of PySpark."
   ]
  },
  {
   "cell_type": "code",
   "execution_count": 3,
   "id": "69e4626f",
   "metadata": {},
   "outputs": [],
   "source": [
    "# Load dataset with clusters\n",
    "df = pd.read_json('output_folder\\\\clustered_dataset.json', lines=True)"
   ]
  },
  {
   "cell_type": "code",
   "execution_count": 4,
   "id": "31660afe",
   "metadata": {},
   "outputs": [
    {
     "name": "stdout",
     "output_type": "stream",
     "text": [
      "   cluster  count\n",
      "0        0      8\n",
      "1        1     14\n",
      "2        2      8\n"
     ]
    }
   ],
   "source": [
    "# Visualize the clusters\n",
    "print(df.groupby('cluster').size().reset_index(name='count'))"
   ]
  },
  {
   "cell_type": "markdown",
   "id": "c923d50a",
   "metadata": {},
   "source": [
    "# Generate Summaries Using LLM\n",
    "Define functions to interact with the Azure OpenAI API for generating summaries. Apply these functions to the prepared data using pandas."
   ]
  },
  {
   "cell_type": "code",
   "execution_count": 5,
   "id": "1f0d6610",
   "metadata": {},
   "outputs": [
    {
     "name": "stdout",
     "output_type": "stream",
     "text": [
      "1. **Cluster Title**: SurrealDB Vulnerabilities Leading to Denial of Service (DoS) and Unauthorized Access\n",
      "\n",
      "2. **Cluster Description**: The advisories highlight multiple vulnerabilities in SurrealDB, a database management system, that can lead to Denial of Service (DoS) attacks and unauthorized access. Common themes include the exploitation of SurrealDB's scripting and function capabilities, which allow attackers to exhaust system resources such as CPU and memory. Additionally, improper handling of network requests and file access permissions can lead to Server-Side Request Forgery (SSRF) and unauthorized file access. These vulnerabilities are primarily due to insufficient input validation, lack of proper resource limits, and inadequate sanitization of user inputs, which can be exploited by authenticated users with specific permissions.\n",
      "\n",
      "3. **Suggested Actions**:\n",
      "   - Implement strict input validation and sanitization for all user inputs, especially in functions and scripts. Reference: [SurrealQL Documentation - Scripting Functions](https://surrealdb.com/docs/surrealql/functions/script).\n",
      "   - Enforce resource limits on CPU and memory usage for functions and scripts to prevent resource exhaustion. Reference: [SurrealDB Documentation - Capabilities](https://surrealdb.com/docs/surrealdb/security/capabilities#functions).\n",
      "   - Use an allowlist approach for network access and scripting capabilities to restrict access to trusted endpoints and scripts. Reference: [SurrealDB Documentation - Network Access Capability](https://surrealdb.com/docs/surrealdb/security/capabilities#network).\n",
      "   - Regularly update to the latest patched versions (2.0.5, 2.1.5, 2.2.2, and later) to mitigate known vulnerabilities. Reference: [#5597](https://github.com/surrealdb/surrealdb/pull/5597).\n",
      "   - Configure SurrealDB to automatically restart after a crash to minimize downtime. Reference: [SurrealDB Documentation - Environment Variables](https://surrealdb.com/docs/surrealdb/cli/env).\n",
      "\n",
      "4. **Summary**: The identified vulnerabilities in SurrealDB pose significant risks, including Denial of Service and unauthorized access. By implementing the suggested actions, such as input validation, resource limits, and regular updates, organizations can mitigate these risks and enhance the security of their SurrealDB deployments. These measures are crucial for maintaining the integrity and availability of the database and the applications that rely on it.\n",
      "\n",
      "5. **Data References**:\n",
      "   - SSRF vulnerability: \"SurrealDB bypass of deny-net flags via redirect results in server-side request forgery (SSRF)\"\n",
      "   - CPU exhaustion: \"SurrealDB CPU exhaustion via custom functions result in total DoS\"\n",
      "   - Memory exhaustion: \"SurrealDB memory exhaustion via string::replace using regex\"\n",
      "   - SurrealQL injection: \"SurrealDB server-takeover via SurrealQL injection on backup import\"\n",
      "   - File access: \"SurrealDB has local file read of 2-column TSV files via analyzers\"\n",
      "   - Uncaught exception: \"SurrealDB has uncaught exception in Net module that leads to database crash\"\n",
      "\n",
      "\n",
      "-----------------------------------------------------------------------------------------\n",
      "1. **Cluster Title**: Resource Exhaustion and Privilege Escalation Vulnerabilities\n",
      "\n",
      "2. **Cluster Description**: The advisories in this cluster highlight vulnerabilities related to resource exhaustion and privilege escalation across various software systems. Common themes include improper handling of processes leading to resource exhaustion, as seen in Pleezer's uncollected hook script processes, and privilege escalation opportunities due to misconfigurations or insufficient access controls, such as in Argo Events and Mattermost. These vulnerabilities often arise from inadequate cleanup mechanisms, improper validation of user inputs, and insufficient enforcement of security policies, allowing attackers to exploit system resources or gain unauthorized access.\n",
      "\n",
      "3. **Suggested Actions**:\n",
      "   - **Upgrade Software**: Ensure all systems are updated to the latest versions where patches have been applied, such as Pleezer version 0.16.0 and Argo Events version 1.9.6.\n",
      "   - **Disable Vulnerable Features**: Temporarily disable features that are prone to exploitation, such as the `--hook` option in Pleezer, until a patch can be applied.\n",
      "   - **Implement Process Cleanup**: Develop scripts or use existing tools to regularly clean up zombie processes in systems like Pleezer to prevent resource exhaustion.\n",
      "   - **Restrict Permissions**: Review and tighten permissions for creating or modifying critical resources, such as EventSource and Sensor CRs in Argo Events, to prevent privilege escalation.\n",
      "   - **Enforce Access Controls**: Implement strict access controls and regularly audit user permissions, especially in systems like Mattermost, to ensure compliance with security policies.\n",
      "   - **Monitor and Log**: Enable detailed logging and monitoring to detect unusual activities that may indicate exploitation attempts, such as unauthorized access to system resources.\n",
      "\n",
      "4. **Summary**: This analysis underscores the critical need for robust process management and access control mechanisms to mitigate resource exhaustion and privilege escalation vulnerabilities. By implementing the suggested actions, organizations can significantly enhance their security posture, reducing the risk of exploitation and ensuring system stability and integrity. Regular updates, permission audits, and proactive monitoring are essential components of a comprehensive security strategy.\n",
      "\n",
      "5. **Data References**:\n",
      "   - Pleezer resource exhaustion: https://github.com/roderickvd/pleezer/discussions/83#discussioncomment-12818199\n",
      "   - Argo Events privilege escalation: https://github.com/argoproj/argo-events/pull/3528\n",
      "   - Mattermost access control issue: Mattermost versions 9.11.x <= 9.11.8 fail to enforce proper access controls on the /api/v4/audits endpoint.\n",
      "\n",
      "\n",
      "-----------------------------------------------------------------------------------------\n",
      "1. **Cluster Title**: Cross-Site Scripting (XSS) and XML External Entity (XXE) Vulnerabilities in Web Applications\n",
      "\n",
      "2. **Cluster Description**: The advisories in this cluster predominantly highlight vulnerabilities related to Cross-Site Scripting (XSS) and XML External Entity (XXE) attacks across various web applications and frameworks. XSS vulnerabilities are evident in Formie, Yii, and Silverstripe, where malicious scripts can be injected and executed in different contexts, such as email previews, form imports, and content management systems (CMS). These vulnerabilities often arise from insufficient input sanitization and escaping, allowing attackers to execute scripts on the client side. Additionally, XXE vulnerabilities are present in ibexa/fieldtype-richtext and ezsystems/ezplatform-richtext, where attackers can exploit XML parsing to access unauthorized data on the server. These issues are typically due to improper handling of XML input, allowing external entities to be processed.\n",
      "\n",
      "3. **Suggested Actions**:\n",
      "   - **Upgrade Software**: Ensure all affected systems are upgraded to the latest patched versions, such as Formie 2.1.44, Yii 1.1.31, and the latest patches for Silverstripe and ibexa/ezplatform-richtext.\n",
      "   - **Implement Input Validation**: Strengthen input validation and sanitization mechanisms across all applications to prevent XSS and XXE attacks. This includes escaping user inputs and properly handling XML data.\n",
      "   - **Restrict Permissions**: Limit edit permissions to trusted users only, especially for content that involves RichText fields, to mitigate the risk of XXE attacks.\n",
      "   - **Conduct Security Audits**: Regularly perform security audits and code reviews to identify and address potential vulnerabilities in web applications.\n",
      "   - **Educate Users**: Provide training for developers and users on secure coding practices and the importance of input validation to prevent XSS and XXE vulnerabilities.\n",
      "\n",
      "4. **Summary**: This analysis underscores the prevalence of XSS and XXE vulnerabilities in web applications, primarily due to inadequate input sanitization and permission controls. By upgrading to patched versions, implementing robust input validation, restricting permissions, and conducting regular security audits, organizations can significantly reduce the risk of these vulnerabilities being exploited. These actions are crucial for maintaining the integrity and security of web applications, protecting both user data and system resources.\n",
      "\n",
      "5. **Data References**:\n",
      "   - Formie XSS vulnerabilities: Advisories related to email notification content and form imports.\n",
      "   - Yii XSS vulnerability: Advisory related to fallback error renderer.\n",
      "   - Silverstripe XSS vulnerabilities: Advisories related to HTML editor and elemental content blocks.\n",
      "   - ibexa/ezplatform XXE vulnerabilities: Advisories related to RichText field type.\n",
      "\n",
      "\n",
      "-----------------------------------------------------------------------------------------\n"
     ]
    }
   ],
   "source": [
    "# Define the function to process each cluster\n",
    "def process_cluster(cluster_df):\n",
    "    JoinDesc = '\\n<threat-Separator>\\n'.join(cluster_df['combined_text'].astype(str))\n",
    "\n",
    "    response = client.chat.completions.create(\n",
    "        model=\"gpt-4o\",\n",
    "        messages=[\n",
    "            {\"role\": \"system\", \"content\": '''\n",
    "                As a seasoned security analyst, you possess a deep understanding of security advisories. Your current task involves analyzing a list of security advisories, each separated by a '<Finding-Separator>'. These advisories have been pre-clustered using an unsupervised machine learning technique, indicating inherent commonalities. Your mission is to delve into these commonalities, uncover underlying patterns, and identify vulnerabilities. Follow this structured format in your response:\n",
    "                1. **Cluster Title**: Create a concise title that encapsulates the core issue of the cluster. If acronyms are used, define them upon first mention.\n",
    "                2. **Cluster Description**: Craft a detailed paragraph exploring the observed similarities among the advisories. Highlight recurring themes, shared vulnerabilities, or common sources of the advisories.\n",
    "                3. **Suggested Actions**: Provide a list of concrete individual actionable steps that directly address the findings. Include specific links to relevant issues or gaps within the data whenever possible, to make the action more standalone. Ensure clarity, leaving no room for ambiguity during implementation.\n",
    "                4. **Summary**: Conclude with a paragraph summarizing key points from the analysis. Emphasize the importance of the suggested actions and their potential impact on improving security.\n",
    "                5. **Data References**: Where applicable, reference specific data points from the input data that support your analysis and suggested actions.\n",
    "\n",
    "                Your goal is to offer practical, feasible guidance tailored to the specifics of this set of security advisories. Engineers should be able to follow these recommendations without additional interpretation.\n",
    "\n",
    "                Example of an incorrect suggested action:\n",
    "                - Patch Management and Security Updates: Develop a streamlined process for managing security updates, especially in environments with complex deployment scenarios. Prioritize the rollout of patches to first-party services before public release.\n",
    "\n",
    "                Example of a correct suggested action:\n",
    "                - Develop a streamlined process for managing security updates, especially in environments with complex deployment scenarios.\n",
    "                - Prioritize the rollout of patches to first-party services before public release.\n",
    "            '''},\n",
    "            {\"role\": \"user\", \"content\": JoinDesc}\n",
    "        ],\n",
    "        temperature=0.2,\n",
    "        max_tokens=4096,\n",
    "        top_p=0.95,\n",
    "        frequency_penalty=0,\n",
    "        presence_penalty=0,\n",
    "        stop=None\n",
    "    )\n",
    "    ClusterSummary = response.choices[0].message.content\n",
    "\n",
    "    print(ClusterSummary)\n",
    "    print('\\n')\n",
    "    print('-----------------------------------------------------------------------------------------')\n",
    "\n",
    "    # Return the cluster label and summary for aggregation\n",
    "    return cluster_df['cluster'].iloc[0], ClusterSummary\n",
    "\n",
    "    time.sleep(5)  # Wait for 5 seconds before the next iteration\n",
    "\n",
    "# Create a new dataframe to store the cluster summaries\n",
    "cluster_summary_df = pd.DataFrame(columns=['cluster', 'ClusterSummary'])\n",
    "\n",
    "# Group the original dataframe by 'cluster'\n",
    "clustergroups = df.groupby(by='cluster')\n",
    "\n",
    "# Process each cluster and store the results in the new dataframe\n",
    "cluster_summaries = []  # Use a list to collect results for better performance\n",
    "for _, grp in clustergroups:\n",
    "    cluster, cluster_summary = process_cluster(grp)\n",
    "    cluster_summaries.append({'cluster': cluster, 'ClusterSummary': cluster_summary})\n",
    "\n",
    "# Convert the list of dictionaries to a DataFrame\n",
    "cluster_summary_df = pd.DataFrame(cluster_summaries)"
   ]
  },
  {
   "cell_type": "markdown",
   "id": "25a0e258",
   "metadata": {},
   "source": [
    "# Export Data\n",
    "Save the processed data with generated summaries to a local file or other accessible storage in CSV format."
   ]
  },
  {
   "cell_type": "code",
   "execution_count": 6,
   "id": "ccc92e0b",
   "metadata": {},
   "outputs": [
    {
     "name": "stdout",
     "output_type": "stream",
     "text": [
      "Cluster: 0\n",
      "ClusterSummary:\n",
      "1. **Cluster Title**: SurrealDB Vulnerabilities Leading to Denial of Service (DoS) and Unauthorized Access\n",
      "\n",
      "2. **Cluster Description**: The advisories highlight multiple vulnerabilities in SurrealDB, a database management system, that can lead to Denial of Service (DoS) attacks and unauthorized access. Common themes include the exploitation of SurrealDB's scripting and function capabilities, which allow attackers to exhaust system resources such as CPU and memory. Additionally, improper handling of network requests and file access permissions can lead to Server-Side Request Forgery (SSRF) and unauthorized file access. These vulnerabilities are primarily due to insufficient input validation, lack of proper resource limits, and inadequate sanitization of user inputs, which can be exploited by authenticated users with specific permissions.\n",
      "\n",
      "3. **Suggested Actions**:\n",
      "   - Implement strict input validation and sanitization for all user inputs, especially in functions and scripts. Reference: [SurrealQL Documentation - Scripting Functions](https://surrealdb.com/docs/surrealql/functions/script).\n",
      "   - Enforce resource limits on CPU and memory usage for functions and scripts to prevent resource exhaustion. Reference: [SurrealDB Documentation - Capabilities](https://surrealdb.com/docs/surrealdb/security/capabilities#functions).\n",
      "   - Use an allowlist approach for network access and scripting capabilities to restrict access to trusted endpoints and scripts. Reference: [SurrealDB Documentation - Network Access Capability](https://surrealdb.com/docs/surrealdb/security/capabilities#network).\n",
      "   - Regularly update to the latest patched versions (2.0.5, 2.1.5, 2.2.2, and later) to mitigate known vulnerabilities. Reference: [#5597](https://github.com/surrealdb/surrealdb/pull/5597).\n",
      "   - Configure SurrealDB to automatically restart after a crash to minimize downtime. Reference: [SurrealDB Documentation - Environment Variables](https://surrealdb.com/docs/surrealdb/cli/env).\n",
      "\n",
      "4. **Summary**: The identified vulnerabilities in SurrealDB pose significant risks, including Denial of Service and unauthorized access. By implementing the suggested actions, such as input validation, resource limits, and regular updates, organizations can mitigate these risks and enhance the security of their SurrealDB deployments. These measures are crucial for maintaining the integrity and availability of the database and the applications that rely on it.\n",
      "\n",
      "5. **Data References**:\n",
      "   - SSRF vulnerability: \"SurrealDB bypass of deny-net flags via redirect results in server-side request forgery (SSRF)\"\n",
      "   - CPU exhaustion: \"SurrealDB CPU exhaustion via custom functions result in total DoS\"\n",
      "   - Memory exhaustion: \"SurrealDB memory exhaustion via string::replace using regex\"\n",
      "   - SurrealQL injection: \"SurrealDB server-takeover via SurrealQL injection on backup import\"\n",
      "   - File access: \"SurrealDB has local file read of 2-column TSV files via analyzers\"\n",
      "   - Uncaught exception: \"SurrealDB has uncaught exception in Net module that leads to database crash\"\n",
      "--------------------------------------------------------------------------------\n",
      "Cluster: 1\n",
      "ClusterSummary:\n",
      "1. **Cluster Title**: Resource Exhaustion and Privilege Escalation Vulnerabilities\n",
      "\n",
      "2. **Cluster Description**: The advisories in this cluster highlight vulnerabilities related to resource exhaustion and privilege escalation across various software systems. Common themes include improper handling of processes leading to resource exhaustion, as seen in Pleezer's uncollected hook script processes, and privilege escalation opportunities due to misconfigurations or insufficient access controls, such as in Argo Events and Mattermost. These vulnerabilities often arise from inadequate cleanup mechanisms, improper validation of user inputs, and insufficient enforcement of security policies, allowing attackers to exploit system resources or gain unauthorized access.\n",
      "\n",
      "3. **Suggested Actions**:\n",
      "   - **Upgrade Software**: Ensure all systems are updated to the latest versions where patches have been applied, such as Pleezer version 0.16.0 and Argo Events version 1.9.6.\n",
      "   - **Disable Vulnerable Features**: Temporarily disable features that are prone to exploitation, such as the `--hook` option in Pleezer, until a patch can be applied.\n",
      "   - **Implement Process Cleanup**: Develop scripts or use existing tools to regularly clean up zombie processes in systems like Pleezer to prevent resource exhaustion.\n",
      "   - **Restrict Permissions**: Review and tighten permissions for creating or modifying critical resources, such as EventSource and Sensor CRs in Argo Events, to prevent privilege escalation.\n",
      "   - **Enforce Access Controls**: Implement strict access controls and regularly audit user permissions, especially in systems like Mattermost, to ensure compliance with security policies.\n",
      "   - **Monitor and Log**: Enable detailed logging and monitoring to detect unusual activities that may indicate exploitation attempts, such as unauthorized access to system resources.\n",
      "\n",
      "4. **Summary**: This analysis underscores the critical need for robust process management and access control mechanisms to mitigate resource exhaustion and privilege escalation vulnerabilities. By implementing the suggested actions, organizations can significantly enhance their security posture, reducing the risk of exploitation and ensuring system stability and integrity. Regular updates, permission audits, and proactive monitoring are essential components of a comprehensive security strategy.\n",
      "\n",
      "5. **Data References**:\n",
      "   - Pleezer resource exhaustion: https://github.com/roderickvd/pleezer/discussions/83#discussioncomment-12818199\n",
      "   - Argo Events privilege escalation: https://github.com/argoproj/argo-events/pull/3528\n",
      "   - Mattermost access control issue: Mattermost versions 9.11.x <= 9.11.8 fail to enforce proper access controls on the /api/v4/audits endpoint.\n",
      "--------------------------------------------------------------------------------\n",
      "Cluster: 2\n",
      "ClusterSummary:\n",
      "1. **Cluster Title**: Cross-Site Scripting (XSS) and XML External Entity (XXE) Vulnerabilities in Web Applications\n",
      "\n",
      "2. **Cluster Description**: The advisories in this cluster predominantly highlight vulnerabilities related to Cross-Site Scripting (XSS) and XML External Entity (XXE) attacks across various web applications and frameworks. XSS vulnerabilities are evident in Formie, Yii, and Silverstripe, where malicious scripts can be injected and executed in different contexts, such as email previews, form imports, and content management systems (CMS). These vulnerabilities often arise from insufficient input sanitization and escaping, allowing attackers to execute scripts on the client side. Additionally, XXE vulnerabilities are present in ibexa/fieldtype-richtext and ezsystems/ezplatform-richtext, where attackers can exploit XML parsing to access unauthorized data on the server. These issues are typically due to improper handling of XML input, allowing external entities to be processed.\n",
      "\n",
      "3. **Suggested Actions**:\n",
      "   - **Upgrade Software**: Ensure all affected systems are upgraded to the latest patched versions, such as Formie 2.1.44, Yii 1.1.31, and the latest patches for Silverstripe and ibexa/ezplatform-richtext.\n",
      "   - **Implement Input Validation**: Strengthen input validation and sanitization mechanisms across all applications to prevent XSS and XXE attacks. This includes escaping user inputs and properly handling XML data.\n",
      "   - **Restrict Permissions**: Limit edit permissions to trusted users only, especially for content that involves RichText fields, to mitigate the risk of XXE attacks.\n",
      "   - **Conduct Security Audits**: Regularly perform security audits and code reviews to identify and address potential vulnerabilities in web applications.\n",
      "   - **Educate Users**: Provide training for developers and users on secure coding practices and the importance of input validation to prevent XSS and XXE vulnerabilities.\n",
      "\n",
      "4. **Summary**: This analysis underscores the prevalence of XSS and XXE vulnerabilities in web applications, primarily due to inadequate input sanitization and permission controls. By upgrading to patched versions, implementing robust input validation, restricting permissions, and conducting regular security audits, organizations can significantly reduce the risk of these vulnerabilities being exploited. These actions are crucial for maintaining the integrity and security of web applications, protecting both user data and system resources.\n",
      "\n",
      "5. **Data References**:\n",
      "   - Formie XSS vulnerabilities: Advisories related to email notification content and form imports.\n",
      "   - Yii XSS vulnerability: Advisory related to fallback error renderer.\n",
      "   - Silverstripe XSS vulnerabilities: Advisories related to HTML editor and elemental content blocks.\n",
      "   - ibexa/ezplatform XXE vulnerabilities: Advisories related to RichText field type.\n",
      "--------------------------------------------------------------------------------\n"
     ]
    }
   ],
   "source": [
    "# Adjust the display settings for better readability\n",
    "pd.set_option('display.max_colwidth', None)\n",
    "\n",
    "# Print the dataset with formatted ClusterSummary\n",
    "for index, row in cluster_summary_df.iterrows():\n",
    "    print(f\"Cluster: {row['cluster']}\")\n",
    "    print(f\"ClusterSummary:\\n{row['ClusterSummary']}\")\n",
    "    print('-' * 80)"
   ]
  },
  {
   "cell_type": "code",
   "execution_count": 7,
   "id": "7ab34082",
   "metadata": {},
   "outputs": [
    {
     "name": "stdout",
     "output_type": "stream",
     "text": [
      "Generated summaries saved to output_folder\\cluster_summaries.json\n"
     ]
    }
   ],
   "source": [
    "# Export Data\n",
    "output_file_path = \"output_folder\\\\cluster_summaries.json\"\n",
    "\n",
    "# Save the DataFrame to a CSV file\n",
    "cluster_summary_df.to_json(output_file_path, index=False)\n",
    "print(f\"Generated summaries saved to {output_file_path}\")"
   ]
  }
 ],
 "metadata": {
  "kernelspec": {
   "display_name": "Python 3",
   "language": "python",
   "name": "python3"
  },
  "language_info": {
   "codemirror_mode": {
    "name": "ipython",
    "version": 3
   },
   "file_extension": ".py",
   "mimetype": "text/x-python",
   "name": "python",
   "nbconvert_exporter": "python",
   "pygments_lexer": "ipython3",
   "version": "3.13.3"
  }
 },
 "nbformat": 4,
 "nbformat_minor": 5
}
