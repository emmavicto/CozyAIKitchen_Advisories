{
 "cells": [
  {
   "cell_type": "markdown",
   "id": "d8b1e319",
   "metadata": {},
   "source": [
    "# Import Necessary Libraries\n",
    "Import libraries such as pandas, matplotlib, and seaborn for data manipulation and visualization."
   ]
  },
  {
   "cell_type": "code",
   "execution_count": null,
   "id": "84e32f75",
   "metadata": {},
   "outputs": [],
   "source": [
    "# Import Necessary Libraries\n",
    "# %pip install matplotlib seaborn\n",
    "import pandas as pd\n",
    "import matplotlib.pyplot as plt\n",
    "import seaborn as sns\n",
    "import json"
   ]
  },
  {
   "cell_type": "markdown",
   "id": "8cdcfbc2",
   "metadata": {},
   "source": [
    "# Load the Dataset\n",
    "Load the GitHub Advisory dataset"
   ]
  },
  {
   "cell_type": "code",
   "execution_count": null,
   "id": "ac51ead1",
   "metadata": {},
   "outputs": [],
   "source": [
    "# This cell downloads the dataset from a URL and saves it locally.\n",
    "# Uncomment the following lines to download the dataset if not already available.\n",
    "import requests\n",
    "import json\n",
    "\n",
    "# Replace the URL below with the actual URL for the JSON dataset\n",
    "dataset_url = 'https://api.github.com/advisories'\n",
    "\n",
    "# Fetch the JSON data from the URL\n",
    "response = requests.get(dataset_url)\n",
    "advisories = response.json()\n",
    "\n",
    "# Save the data to a local JSON file\n",
    "with open('advisories.json', 'w') as jsonfile:\n",
    "    json.dump(advisories, jsonfile, indent=4)\n",
    "\n",
    "# Display a sample of the data\n",
    "for advisory in advisories[:2]:\n",
    "    print(f\"Summary: {advisory['summary']}\")\n",
    "    print(f\"Description: {advisory['description']}\\n\")"
   ]
  },
  {
   "cell_type": "code",
   "execution_count": null,
   "id": "ed86af00",
   "metadata": {},
   "outputs": [],
   "source": [
    "# Load the Dataset\n",
    "with open('advisories.json', 'r') as jsonfile:\n",
    "    data = json.load(jsonfile)\n",
    "    df = pd.DataFrame(data)"
   ]
  },
  {
   "cell_type": "markdown",
   "id": "39b0ca93",
   "metadata": {},
   "source": [
    "# Data Cleaning and Preprocessing\n",
    "Perform data cleaning tasks such as handling missing values and encoding categorical variables."
   ]
  },
  {
   "cell_type": "code",
   "execution_count": null,
   "id": "bd8bd44d",
   "metadata": {
    "vscode": {
     "languageId": "ruby"
    }
   },
   "outputs": [],
   "source": [
    "import numpy as np\n",
    "\n",
    "# Select relevant columns for embeddings\n",
    "text_columns = ['summary', 'description']\n",
    "numerical_columns = ['cvss_severities', 'epss']\n",
    "\n",
    "# Fill missing values in text columns with empty strings\n",
    "df[text_columns] = df[text_columns].fillna('')\n",
    "\n",
    "# Fill missing values in numerical columns with 0\n",
    "df[numerical_columns] = df[numerical_columns].fillna(0)\n",
    "\n",
    "# Preprocess text columns for embedding generation\n",
    "df['combined_text'] = (\n",
    "    \"summary: \" + df['summary'].fillna('').str.replace(r'\\s+', ' ', regex=True).str.strip() + \"\\n\" +\n",
    "    \"description: \" + df['description'].fillna('').str.replace(r'\\s+', ' ', regex=True).str.strip() + \"\\n\"\n",
    ")\n",
    "\n",
    "# Display two rows for only the \"combined_text\" attribute without truncation\n",
    "df['combined_text'].head(2)"
   ]
  },
  {
   "cell_type": "code",
   "execution_count": null,
   "id": "d73f4f61",
   "metadata": {
    "vscode": {
     "languageId": "markdown"
    }
   },
   "outputs": [],
   "source": [
    "output_json_file = 'output_folder/cleaned_advisories.json'\n",
    "\n",
    "df.to_json(output_json_file, orient='records', lines=True)\n",
    "print(f\"DataFrame exported to {output_json_file}\")"
   ]
  }
 ],
 "metadata": {
  "kernelspec": {
   "display_name": "Python 3",
   "language": "python",
   "name": "python3"
  },
  "language_info": {
   "codemirror_mode": {
    "name": "ipython",
    "version": 3
   },
   "file_extension": ".py",
   "mimetype": "text/x-python",
   "name": "python",
   "nbconvert_exporter": "python",
   "pygments_lexer": "ipython3",
   "version": "3.13.3"
  }
 },
 "nbformat": 4,
 "nbformat_minor": 5
}
