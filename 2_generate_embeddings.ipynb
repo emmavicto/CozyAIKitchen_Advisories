{
 "cells": [
  {
   "cell_type": "markdown",
   "id": "514baba7",
   "metadata": {},
   "source": [
    "# Import Required Libraries\n",
    "Import libraries such as pandas for data manipulation and Azure OpenAI for embedding generation."
   ]
  },
  {
   "cell_type": "code",
   "execution_count": null,
   "id": "2ce516da",
   "metadata": {},
   "outputs": [],
   "source": [
    "import pandas as pd\n",
    "import os\n",
    "from openai import AzureOpenAI\n",
    "from sklearn.decomposition import PCA\n",
    "from dotenv import load_dotenv"
   ]
  },
  {
   "cell_type": "markdown",
   "id": "836e0424",
   "metadata": {},
   "source": [
    "# Load Dataset\n",
    "Load the dataset into a pandas DataFrame and inspect the 'combined_text' column."
   ]
  },
  {
   "cell_type": "code",
   "execution_count": null,
   "id": "d000f211",
   "metadata": {},
   "outputs": [],
   "source": [
    "# Load the dataset\n",
    "df = pd.read_json('output_folder/cleaned_advisories.json', lines=True)"
   ]
  },
  {
   "cell_type": "markdown",
   "id": "8b465ef7",
   "metadata": {},
   "source": [
    "# Preprocess Text Data\n",
    "Perform any necessary preprocessing on the 'combined_text' column, such as removing null values or cleaning text."
   ]
  },
  {
   "cell_type": "code",
   "execution_count": null,
   "id": "4bdb47fe",
   "metadata": {},
   "outputs": [],
   "source": [
    "# Preprocess Text Data\n",
    "# Drop rows with null values in the 'combined_text' column\n",
    "df = df.dropna(subset=['combined_text'])\n",
    "\n",
    "# Optional: Add any additional text preprocessing steps here\n",
    "print(f\"Dataset after preprocessing: {len(df)} rows\")"
   ]
  },
  {
   "cell_type": "markdown",
   "id": "83b76876",
   "metadata": {},
   "source": [
    "# Generate Two-Dimensional Embeddings\n",
    "Ensure embeddings are two-dimensional and save them in a new column for each row."
   ]
  },
  {
   "cell_type": "code",
   "execution_count": null,
   "id": "579d71a3",
   "metadata": {},
   "outputs": [],
   "source": [
    "# Load environment variables from .env file\n",
    "load_dotenv()\n",
    "\n",
    "# Initialize Azure OpenAI client correctly\n",
    "client = AzureOpenAI(\n",
    "    api_key=os.getenv(\"OPENAI_API_KEY\"),\n",
    "    api_version=\"2023-05-15\",\n",
    "    azure_endpoint=os.getenv(\"OPENAI_API_BASE\")\n",
    ")\n",
    "\n",
    "# Deployment name for the embeddings model\n",
    "deployment_name = \"text-embedding-3-small\"\n",
    "\n",
    "# Generate embeddings for the text\n",
    "embeddings = []\n",
    "for text in df['combined_text']:\n",
    "    response = client.embeddings.create(\n",
    "        input=text,\n",
    "        model=deployment_name\n",
    "    )\n",
    "    embedding = response.data[0].embedding\n",
    "    embeddings.append(embedding)\n",
    "\n",
    "# Reduce embeddings to 2 dimensions using PCA\n",
    "pca = PCA(n_components=2)\n",
    "embeddings_2d = pca.fit_transform(embeddings)\n",
    "\n",
    "# Add the 2D embeddings as a new column in the DataFrame\n",
    "df['embeddings_2d'] = embeddings_2d.tolist()\n",
    "\n",
    "# Save the DataFrame with 2D embeddings to a new JSON file\n",
    "df.to_json('output_folder\\\\dataset_with_2d_embeddings.json', orient='records', lines=True)\n",
    "\n",
    "print(\"2D embeddings have been successfully saved to 'dataset_with_2d_embeddings.json'.\")"
   ]
  },
  {
   "cell_type": "code",
   "execution_count": null,
   "id": "3eb1ad86",
   "metadata": {},
   "outputs": [],
   "source": [
    "# Check the length of the embeddings array for the first row\n",
    "embedding_length = len(df['embeddings_2d'].iloc[0])\n",
    "print(f\"The embeddings have {embedding_length} dimensions.\")"
   ]
  }
 ],
 "metadata": {
  "kernelspec": {
   "display_name": "Python 3",
   "language": "python",
   "name": "python3"
  },
  "language_info": {
   "codemirror_mode": {
    "name": "ipython",
    "version": 3
   },
   "file_extension": ".py",
   "mimetype": "text/x-python",
   "name": "python",
   "nbconvert_exporter": "python",
   "pygments_lexer": "ipython3",
   "version": "3.13.3"
  }
 },
 "nbformat": 4,
 "nbformat_minor": 5
}
